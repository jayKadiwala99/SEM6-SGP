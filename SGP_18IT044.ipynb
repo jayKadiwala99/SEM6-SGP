{
  "nbformat": 4,
  "nbformat_minor": 0,
  "metadata": {
    "colab": {
      "name": "SGP_18IT044.ipynb",
      "provenance": [],
      "collapsed_sections": []
    },
    "kernelspec": {
      "name": "python3",
      "display_name": "Python 3"
    }
  },
  "cells": [
    {
      "cell_type": "code",
      "metadata": {
        "id": "4P857Eh4UVqr"
      },
      "source": [
        "#importing dataset\n",
        "import numpy as np\n",
        "import matplotlib.pyplot as plt\n",
        "import pandas as pd\n",
        "from sklearn.linear_model import LinearRegression\n",
        "from sklearn.metrics import mean_squared_error, r2_score\n",
        "from sklearn.model_selection import train_test_split "
      ],
      "execution_count": null,
      "outputs": []
    },
    {
      "cell_type": "markdown",
      "metadata": {
        "id": "bD-quBFLSqDR"
      },
      "source": [
        "**importinging the dataset**"
      ]
    },
    {
      "cell_type": "code",
      "metadata": {
        "id": "oE5RuXrgVN2s",
        "colab": {
          "base_uri": "https://localhost:8080/"
        },
        "outputId": "b7ad3cd0-892e-4e99-c56a-93fab80d4f86"
      },
      "source": [
        "dataset = pd.read_csv('Softness(1).csv')\n",
        "X = dataset.iloc[:, 1:-1].values\n",
        "y = dataset.iloc[:, -1].values\n",
        "print(dataset.head())"
      ],
      "execution_count": null,
      "outputs": [
        {
          "output_type": "stream",
          "text": [
            "   Batch No  Total Weight(Kgs)  ...  Temprature(Celcius)  Reduced Weight(Kgs)\n",
            "0         1                 64  ...                   90                55.78\n",
            "1         2                 62  ...                   95                52.64\n",
            "2         3                 61  ...                   93                54.55\n",
            "3         4                 67  ...                   91                60.56\n",
            "4         5                 66  ...                   96                59.59\n",
            "\n",
            "[5 rows x 7 columns]\n"
          ],
          "name": "stdout"
        }
      ]
    },
    {
      "cell_type": "code",
      "metadata": {
        "colab": {
          "base_uri": "https://localhost:8080/",
          "height": 254
        },
        "id": "Jp45YIJOeLaX",
        "outputId": "757b27f5-1050-4a33-ca21-1c1da3b140dc"
      },
      "source": [
        "dataset.corr()"
      ],
      "execution_count": null,
      "outputs": [
        {
          "output_type": "execute_result",
          "data": {
            "text/html": [
              "<div>\n",
              "<style scoped>\n",
              "    .dataframe tbody tr th:only-of-type {\n",
              "        vertical-align: middle;\n",
              "    }\n",
              "\n",
              "    .dataframe tbody tr th {\n",
              "        vertical-align: top;\n",
              "    }\n",
              "\n",
              "    .dataframe thead th {\n",
              "        text-align: right;\n",
              "    }\n",
              "</style>\n",
              "<table border=\"1\" class=\"dataframe\">\n",
              "  <thead>\n",
              "    <tr style=\"text-align: right;\">\n",
              "      <th></th>\n",
              "      <th>Batch No</th>\n",
              "      <th>Total Weight(Kgs)</th>\n",
              "      <th>Total Meters</th>\n",
              "      <th>NaOH(Kgs)</th>\n",
              "      <th>Purity of Water(ppm)</th>\n",
              "      <th>Temprature(Celcius)</th>\n",
              "      <th>Reduced Weight(Kgs)</th>\n",
              "    </tr>\n",
              "  </thead>\n",
              "  <tbody>\n",
              "    <tr>\n",
              "      <th>Batch No</th>\n",
              "      <td>1.000000</td>\n",
              "      <td>0.084030</td>\n",
              "      <td>0.038888</td>\n",
              "      <td>0.151360</td>\n",
              "      <td>0.051380</td>\n",
              "      <td>-0.056893</td>\n",
              "      <td>-0.152925</td>\n",
              "    </tr>\n",
              "    <tr>\n",
              "      <th>Total Weight(Kgs)</th>\n",
              "      <td>0.084030</td>\n",
              "      <td>1.000000</td>\n",
              "      <td>0.011531</td>\n",
              "      <td>0.723998</td>\n",
              "      <td>-0.103573</td>\n",
              "      <td>-0.023954</td>\n",
              "      <td>-0.245629</td>\n",
              "    </tr>\n",
              "    <tr>\n",
              "      <th>Total Meters</th>\n",
              "      <td>0.038888</td>\n",
              "      <td>0.011531</td>\n",
              "      <td>1.000000</td>\n",
              "      <td>-0.165727</td>\n",
              "      <td>-0.128474</td>\n",
              "      <td>0.085033</td>\n",
              "      <td>0.200593</td>\n",
              "    </tr>\n",
              "    <tr>\n",
              "      <th>NaOH(Kgs)</th>\n",
              "      <td>0.151360</td>\n",
              "      <td>0.723998</td>\n",
              "      <td>-0.165727</td>\n",
              "      <td>1.000000</td>\n",
              "      <td>-0.018642</td>\n",
              "      <td>0.078358</td>\n",
              "      <td>-0.815941</td>\n",
              "    </tr>\n",
              "    <tr>\n",
              "      <th>Purity of Water(ppm)</th>\n",
              "      <td>0.051380</td>\n",
              "      <td>-0.103573</td>\n",
              "      <td>-0.128474</td>\n",
              "      <td>-0.018642</td>\n",
              "      <td>1.000000</td>\n",
              "      <td>0.083017</td>\n",
              "      <td>-0.001433</td>\n",
              "    </tr>\n",
              "    <tr>\n",
              "      <th>Temprature(Celcius)</th>\n",
              "      <td>-0.056893</td>\n",
              "      <td>-0.023954</td>\n",
              "      <td>0.085033</td>\n",
              "      <td>0.078358</td>\n",
              "      <td>0.083017</td>\n",
              "      <td>1.000000</td>\n",
              "      <td>-0.143597</td>\n",
              "    </tr>\n",
              "    <tr>\n",
              "      <th>Reduced Weight(Kgs)</th>\n",
              "      <td>-0.152925</td>\n",
              "      <td>-0.245629</td>\n",
              "      <td>0.200593</td>\n",
              "      <td>-0.815941</td>\n",
              "      <td>-0.001433</td>\n",
              "      <td>-0.143597</td>\n",
              "      <td>1.000000</td>\n",
              "    </tr>\n",
              "  </tbody>\n",
              "</table>\n",
              "</div>"
            ],
            "text/plain": [
              "                      Batch No  ...  Reduced Weight(Kgs)\n",
              "Batch No              1.000000  ...            -0.152925\n",
              "Total Weight(Kgs)     0.084030  ...            -0.245629\n",
              "Total Meters          0.038888  ...             0.200593\n",
              "NaOH(Kgs)             0.151360  ...            -0.815941\n",
              "Purity of Water(ppm)  0.051380  ...            -0.001433\n",
              "Temprature(Celcius)  -0.056893  ...            -0.143597\n",
              "Reduced Weight(Kgs)  -0.152925  ...             1.000000\n",
              "\n",
              "[7 rows x 7 columns]"
            ]
          },
          "metadata": {
            "tags": []
          },
          "execution_count": 3
        }
      ]
    },
    {
      "cell_type": "code",
      "metadata": {
        "id": "zdxFYSunf27b"
      },
      "source": [
        "X_train, X_test, y_train, y_test = train_test_split(X, y, test_size = 0.2, random_state = 0)"
      ],
      "execution_count": null,
      "outputs": []
    },
    {
      "cell_type": "code",
      "metadata": {
        "colab": {
          "base_uri": "https://localhost:8080/"
        },
        "id": "-25N80sigCvC",
        "outputId": "95f49ef3-6294-4de4-8eac-ab40c6c6f865"
      },
      "source": [
        "from sklearn.linear_model import LinearRegression\n",
        "regressor = LinearRegression()\n",
        "regressor.fit(X_train, y_train)"
      ],
      "execution_count": null,
      "outputs": [
        {
          "output_type": "execute_result",
          "data": {
            "text/plain": [
              "LinearRegression(copy_X=True, fit_intercept=True, n_jobs=None, normalize=False)"
            ]
          },
          "metadata": {
            "tags": []
          },
          "execution_count": 5
        }
      ]
    },
    {
      "cell_type": "code",
      "metadata": {
        "colab": {
          "base_uri": "https://localhost:8080/"
        },
        "id": "Ys6I-VnegJm5",
        "outputId": "77b7cba7-68bf-421f-e77c-96e6cf7b88b9"
      },
      "source": [
        "y_pred = regressor.predict(X_test)\n",
        "np.set_printoptions(precision=2)\n",
        "print(y_pred.reshape(len(y_pred),1))\n",
        "print(y_test.reshape(len(y_test),1))\n",
        "print(regressor.score(X_test, y_test))"
      ],
      "execution_count": null,
      "outputs": [
        {
          "output_type": "stream",
          "text": [
            "[[58.57]\n",
            " [43.68]\n",
            " [48.73]\n",
            " [51.27]\n",
            " [56.99]\n",
            " [57.42]\n",
            " [51.1 ]\n",
            " [55.15]\n",
            " [53.71]\n",
            " [48.59]\n",
            " [53.78]\n",
            " [56.74]\n",
            " [43.56]\n",
            " [43.07]\n",
            " [47.34]\n",
            " [53.56]\n",
            " [45.19]\n",
            " [54.11]\n",
            " [45.23]\n",
            " [50.22]\n",
            " [49.9 ]\n",
            " [44.98]\n",
            " [48.75]\n",
            " [54.  ]\n",
            " [52.27]\n",
            " [54.1 ]\n",
            " [45.18]\n",
            " [53.8 ]\n",
            " [52.88]\n",
            " [52.19]]\n",
            "[[58.32]\n",
            " [49.79]\n",
            " [45.76]\n",
            " [51.42]\n",
            " [57.63]\n",
            " [57.88]\n",
            " [51.28]\n",
            " [54.97]\n",
            " [54.38]\n",
            " [49.36]\n",
            " [53.51]\n",
            " [56.77]\n",
            " [43.74]\n",
            " [43.22]\n",
            " [47.57]\n",
            " [53.55]\n",
            " [46.88]\n",
            " [54.28]\n",
            " [44.87]\n",
            " [50.  ]\n",
            " [50.  ]\n",
            " [44.65]\n",
            " [48.89]\n",
            " [52.67]\n",
            " [52.38]\n",
            " [54.65]\n",
            " [47.45]\n",
            " [53.58]\n",
            " [52.34]\n",
            " [52.75]]\n",
            "0.8879721764139517\n"
          ],
          "name": "stdout"
        }
      ]
    },
    {
      "cell_type": "code",
      "metadata": {
        "colab": {
          "base_uri": "https://localhost:8080/"
        },
        "id": "jyxImEgoglQ9",
        "outputId": "7ecfbb2e-0861-4033-d4e9-20e6ccb3dd2c"
      },
      "source": [
        "import math\n",
        "from sklearn.metrics import confusion_matrix, accuracy_score, classification_report\n",
        "print(\"RMSE: \", math.sqrt(mean_squared_error(y_test,y_pred)), \"R2 Score:\", r2_score(y_test,y_pred))"
      ],
      "execution_count": null,
      "outputs": [
        {
          "output_type": "stream",
          "text": [
            "RMSE:  1.4049018877500112 R2 Score: 0.8879721764139517\n"
          ],
          "name": "stdout"
        }
      ]
    }
  ]
}